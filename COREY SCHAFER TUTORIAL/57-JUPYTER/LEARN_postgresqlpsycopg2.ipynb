{
 "cells": [
  {
   "cell_type": "code",
   "execution_count": null,
   "id": "stuck-trailer",
   "metadata": {},
   "outputs": [],
   "source": [
    "#secret = 'your password goes here'"
   ]
  },
  {
   "cell_type": "code",
   "execution_count": 1,
   "id": "acting-confusion",
   "metadata": {},
   "outputs": [],
   "source": [
    "import psycopg2 as pg2"
   ]
  },
  {
   "cell_type": "code",
   "execution_count": 8,
   "id": "threatened-solution",
   "metadata": {},
   "outputs": [],
   "source": [
    "conn = pg2.connect(database='dvdrental', user='postgres',password='Naresh@1')"
   ]
  },
  {
   "cell_type": "code",
   "execution_count": 21,
   "id": "toxic-control",
   "metadata": {},
   "outputs": [],
   "source": [
    "cur = conn.cursor()\n",
    "cur.execute(\"SELECT * FROM payment\")"
   ]
  },
  {
   "cell_type": "raw",
   "id": "marine-quest",
   "metadata": {},
   "source": []
  },
  {
   "cell_type": "code",
   "execution_count": 22,
   "id": "decimal-louisville",
   "metadata": {},
   "outputs": [],
   "source": [
    "data= cur.fetchmany(10)\n",
    "# cur.fetchone()\n",
    "# cur.fetchall()"
   ]
  },
  {
   "cell_type": "code",
   "execution_count": 23,
   "id": "prepared-cassette",
   "metadata": {},
   "outputs": [
    {
     "data": {
      "text/plain": [
       "2"
      ]
     },
     "execution_count": 23,
     "metadata": {},
     "output_type": "execute_result"
    }
   ],
   "source": [
    "data[0][2]"
   ]
  },
  {
   "cell_type": "code",
   "execution_count": 24,
   "id": "smooth-donor",
   "metadata": {},
   "outputs": [],
   "source": [
    "conn.close()"
   ]
  }
 ],
 "metadata": {
  "kernelspec": {
   "display_name": "Python 3",
   "language": "python",
   "name": "python3"
  },
  "language_info": {
   "codemirror_mode": {
    "name": "ipython",
    "version": 3
   },
   "file_extension": ".py",
   "mimetype": "text/x-python",
   "name": "python",
   "nbconvert_exporter": "python",
   "pygments_lexer": "ipython3",
   "version": "3.9.0"
  }
 },
 "nbformat": 4,
 "nbformat_minor": 5
}
