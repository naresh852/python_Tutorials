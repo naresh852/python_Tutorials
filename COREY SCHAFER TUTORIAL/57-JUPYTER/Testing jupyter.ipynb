{
 "cells": [
  {
   "cell_type": "code",
   "execution_count": 17,
   "id": "powerful-gather",
   "metadata": {},
   "outputs": [
    {
     "data": {
      "text/plain": [
       "'hello world'"
      ]
     },
     "execution_count": 17,
     "metadata": {},
     "output_type": "execute_result"
    }
   ],
   "source": [
    "'hello world'"
   ]
  },
  {
   "cell_type": "code",
   "execution_count": 18,
   "id": "automotive-brunswick",
   "metadata": {},
   "outputs": [],
   "source": [
    "name='john'"
   ]
  },
  {
   "cell_type": "code",
   "execution_count": 21,
   "id": "pacific-party",
   "metadata": {},
   "outputs": [
    {
     "data": {
      "text/plain": [
       "'coery'"
      ]
     },
     "execution_count": 21,
     "metadata": {},
     "output_type": "execute_result"
    }
   ],
   "source": [
    "name"
   ]
  },
  {
   "cell_type": "code",
   "execution_count": 22,
   "id": "respective-significance",
   "metadata": {},
   "outputs": [],
   "source": [
    "name='coery'"
   ]
  },
  {
   "cell_type": "code",
   "execution_count": 26,
   "id": "intended-safety",
   "metadata": {},
   "outputs": [
    {
     "name": "stdout",
     "output_type": "stream",
     "text": [
      "Package             Version\n",
      "------------------- ---------\n",
      "argon2-cffi         20.1.0\n",
      "async-generator     1.10\n",
      "attrs               20.3.0\n",
      "backcall            0.2.0\n",
      "beautifulsoup4      4.9.3\n",
      "bleach              3.3.0\n",
      "certifi             2020.12.5\n",
      "cffi                1.14.5\n",
      "chardet             4.0.0\n",
      "click               7.1.2\n",
      "colorama            0.4.4\n",
      "cycler              0.10.0\n",
      "decorator           4.4.2\n",
      "defusedxml          0.7.1\n",
      "entrypoints         0.3\n",
      "flake8              3.8.4\n",
      "Flask               1.1.2\n",
      "html5lib            1.1\n",
      "idna                2.10\n",
      "ipykernel           5.5.0\n",
      "ipython             7.21.0\n",
      "ipython-genutils    0.2.0\n",
      "ipywidgets          7.6.3\n",
      "itsdangerous        1.1.0\n",
      "jedi                0.18.0\n",
      "Jinja2              2.11.3\n",
      "JsonForm            0.0.2\n",
      "jsonschema          3.2.0\n",
      "JsonSir             0.0.2\n",
      "jupyter             1.0.0\n",
      "jupyter-client      6.1.12\n",
      "jupyter-console     6.3.0\n",
      "jupyter-core        4.7.1\n",
      "jupyterlab-pygments 0.1.2\n",
      "jupyterlab-widgets  1.0.0\n",
      "kiwisolver          1.3.1\n",
      "lxml                4.6.2\n",
      "MarkupSafe          1.1.1\n",
      "matplotlib          3.3.4\n",
      "mccabe              0.6.1\n",
      "mistune             0.8.4\n",
      "nbclient            0.5.3\n",
      "nbconvert           6.0.7\n",
      "nbformat            5.1.2\n",
      "nest-asyncio        1.5.1\n",
      "notebook            6.2.0\n",
      "numpy               1.20.1\n",
      "packaging           20.9\n",
      "pandas              1.2.3\n",
      "pandocfilters       1.4.3\n",
      "parso               0.8.1\n",
      "pickleshare         0.7.5\n",
      "Pillow              8.0.1\n",
      "pip                 21.0.1\n",
      "prometheus-client   0.9.0\n",
      "prompt-toolkit      3.0.17\n",
      "psutil              5.8.0\n",
      "pycodestyle         2.6.0\n",
      "pycparser           2.20\n",
      "pyflakes            2.2.0\n",
      "pygame              2.0.1\n",
      "Pygments            2.8.1\n",
      "Pympler             0.9\n",
      "pyparsing           2.4.7\n",
      "pyrsistent          0.17.3\n",
      "python-dateutil     2.8.1\n",
      "Python-EasyConfig   0.1.7\n",
      "pytz                2021.1\n",
      "pywin32             300\n",
      "pywinpty            0.5.7\n",
      "PyYAML              5.4.1\n",
      "pyzmq               22.0.3\n",
      "qtconsole           5.0.3\n",
      "QtPy                1.9.0\n",
      "requests            2.25.1\n",
      "Resource            0.2.1\n",
      "Send2Trash          1.5.0\n",
      "setuptools          53.0.0\n",
      "six                 1.15.0\n",
      "soupsieve           2.2.1\n",
      "terminado           0.9.3\n",
      "testpath            0.4.4\n",
      "tornado             6.1\n",
      "traitlets           5.0.5\n",
      "urllib3             1.26.4\n",
      "wcwidth             0.2.5\n",
      "webencodings        0.5.1\n",
      "Werkzeug            1.0.1\n",
      "widgetsnbextension  3.5.1\n"
     ]
    }
   ],
   "source": [
    "!pip list"
   ]
  },
  {
   "cell_type": "code",
   "execution_count": 27,
   "id": "undefined-conservation",
   "metadata": {},
   "outputs": [
    {
     "data": {
      "application/json": {
       "cell": {
        "!": "OSMagics",
        "HTML": "Other",
        "SVG": "Other",
        "bash": "Other",
        "capture": "ExecutionMagics",
        "cmd": "Other",
        "debug": "ExecutionMagics",
        "file": "Other",
        "html": "DisplayMagics",
        "javascript": "DisplayMagics",
        "js": "DisplayMagics",
        "latex": "DisplayMagics",
        "markdown": "DisplayMagics",
        "perl": "Other",
        "prun": "ExecutionMagics",
        "pypy": "Other",
        "python": "Other",
        "python2": "Other",
        "python3": "Other",
        "ruby": "Other",
        "script": "ScriptMagics",
        "sh": "Other",
        "svg": "DisplayMagics",
        "sx": "OSMagics",
        "system": "OSMagics",
        "time": "ExecutionMagics",
        "timeit": "ExecutionMagics",
        "writefile": "OSMagics"
       },
       "line": {
        "alias": "OSMagics",
        "alias_magic": "BasicMagics",
        "autoawait": "AsyncMagics",
        "autocall": "AutoMagics",
        "automagic": "AutoMagics",
        "autosave": "KernelMagics",
        "bookmark": "OSMagics",
        "cd": "OSMagics",
        "clear": "KernelMagics",
        "cls": "KernelMagics",
        "colors": "BasicMagics",
        "conda": "PackagingMagics",
        "config": "ConfigMagics",
        "connect_info": "KernelMagics",
        "copy": "Other",
        "ddir": "Other",
        "debug": "ExecutionMagics",
        "dhist": "OSMagics",
        "dirs": "OSMagics",
        "doctest_mode": "BasicMagics",
        "echo": "Other",
        "ed": "Other",
        "edit": "KernelMagics",
        "env": "OSMagics",
        "gui": "BasicMagics",
        "hist": "Other",
        "history": "HistoryMagics",
        "killbgscripts": "ScriptMagics",
        "ldir": "Other",
        "less": "KernelMagics",
        "load": "CodeMagics",
        "load_ext": "ExtensionMagics",
        "loadpy": "CodeMagics",
        "logoff": "LoggingMagics",
        "logon": "LoggingMagics",
        "logstart": "LoggingMagics",
        "logstate": "LoggingMagics",
        "logstop": "LoggingMagics",
        "ls": "Other",
        "lsmagic": "BasicMagics",
        "macro": "ExecutionMagics",
        "magic": "BasicMagics",
        "matplotlib": "PylabMagics",
        "mkdir": "Other",
        "more": "KernelMagics",
        "notebook": "BasicMagics",
        "page": "BasicMagics",
        "pastebin": "CodeMagics",
        "pdb": "ExecutionMagics",
        "pdef": "NamespaceMagics",
        "pdoc": "NamespaceMagics",
        "pfile": "NamespaceMagics",
        "pinfo": "NamespaceMagics",
        "pinfo2": "NamespaceMagics",
        "pip": "PackagingMagics",
        "popd": "OSMagics",
        "pprint": "BasicMagics",
        "precision": "BasicMagics",
        "prun": "ExecutionMagics",
        "psearch": "NamespaceMagics",
        "psource": "NamespaceMagics",
        "pushd": "OSMagics",
        "pwd": "OSMagics",
        "pycat": "OSMagics",
        "pylab": "PylabMagics",
        "qtconsole": "KernelMagics",
        "quickref": "BasicMagics",
        "recall": "HistoryMagics",
        "rehashx": "OSMagics",
        "reload_ext": "ExtensionMagics",
        "ren": "Other",
        "rep": "Other",
        "rerun": "HistoryMagics",
        "reset": "NamespaceMagics",
        "reset_selective": "NamespaceMagics",
        "rmdir": "Other",
        "run": "ExecutionMagics",
        "save": "CodeMagics",
        "sc": "OSMagics",
        "set_env": "OSMagics",
        "store": "StoreMagics",
        "sx": "OSMagics",
        "system": "OSMagics",
        "tb": "ExecutionMagics",
        "time": "ExecutionMagics",
        "timeit": "ExecutionMagics",
        "unalias": "OSMagics",
        "unload_ext": "ExtensionMagics",
        "who": "NamespaceMagics",
        "who_ls": "NamespaceMagics",
        "whos": "NamespaceMagics",
        "xdel": "NamespaceMagics",
        "xmode": "BasicMagics"
       }
      },
      "text/plain": [
       "Available line magics:\n",
       "%alias  %alias_magic  %autoawait  %autocall  %automagic  %autosave  %bookmark  %cd  %clear  %cls  %colors  %conda  %config  %connect_info  %copy  %ddir  %debug  %dhist  %dirs  %doctest_mode  %echo  %ed  %edit  %env  %gui  %hist  %history  %killbgscripts  %ldir  %less  %load  %load_ext  %loadpy  %logoff  %logon  %logstart  %logstate  %logstop  %ls  %lsmagic  %macro  %magic  %matplotlib  %mkdir  %more  %notebook  %page  %pastebin  %pdb  %pdef  %pdoc  %pfile  %pinfo  %pinfo2  %pip  %popd  %pprint  %precision  %prun  %psearch  %psource  %pushd  %pwd  %pycat  %pylab  %qtconsole  %quickref  %recall  %rehashx  %reload_ext  %ren  %rep  %rerun  %reset  %reset_selective  %rmdir  %run  %save  %sc  %set_env  %store  %sx  %system  %tb  %time  %timeit  %unalias  %unload_ext  %who  %who_ls  %whos  %xdel  %xmode\n",
       "\n",
       "Available cell magics:\n",
       "%%!  %%HTML  %%SVG  %%bash  %%capture  %%cmd  %%debug  %%file  %%html  %%javascript  %%js  %%latex  %%markdown  %%perl  %%prun  %%pypy  %%python  %%python2  %%python3  %%ruby  %%script  %%sh  %%svg  %%sx  %%system  %%time  %%timeit  %%writefile\n",
       "\n",
       "Automagic is ON, % prefix IS NOT needed for line magics."
      ]
     },
     "execution_count": 27,
     "metadata": {},
     "output_type": "execute_result"
    }
   ],
   "source": [
    "lsmagic"
   ]
  },
  {
   "cell_type": "code",
   "execution_count": 28,
   "id": "entitled-basics",
   "metadata": {},
   "outputs": [
    {
     "data": {
      "text/plain": [
       "'E:\\\\python\\\\COREY SCHAFER TUTORIAL\\\\53-JUPYTER'"
      ]
     },
     "execution_count": 28,
     "metadata": {},
     "output_type": "execute_result"
    }
   ],
   "source": [
    "%pwd"
   ]
  },
  {
   "cell_type": "code",
   "execution_count": 29,
   "id": "preliminary-islam",
   "metadata": {},
   "outputs": [
    {
     "name": "stdout",
     "output_type": "stream",
     "text": [
      " Volume in drive E has no label.\n",
      " Volume Serial Number is C45D-D1F7\n",
      "\n",
      " Directory of E:\\python\\COREY SCHAFER TUTORIAL\\53-JUPYTER\n",
      "\n",
      "22-03-2021  12:27    <DIR>          .\n",
      "22-03-2021  12:27    <DIR>          ..\n",
      "22-03-2021  12:06    <DIR>          .ipynb_checkpoints\n",
      "22-03-2021  12:27               327 app.py\n",
      "22-03-2021  12:27            10,971 Testing jupyter.ipynb\n",
      "               2 File(s)         11,298 bytes\n",
      "               3 Dir(s)  369,725,628,416 bytes free\n"
     ]
    }
   ],
   "source": [
    "%ls"
   ]
  }
 ],
 "metadata": {
  "kernelspec": {
   "display_name": "Python 3",
   "language": "python",
   "name": "python3"
  },
  "language_info": {
   "codemirror_mode": {
    "name": "ipython",
    "version": 3
   },
   "file_extension": ".py",
   "mimetype": "text/x-python",
   "name": "python",
   "nbconvert_exporter": "python",
   "pygments_lexer": "ipython3",
   "version": "3.9.0"
  }
 },
 "nbformat": 4,
 "nbformat_minor": 5
}
